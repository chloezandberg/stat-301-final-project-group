{
 "cells": [
  {
   "cell_type": "markdown",
   "id": "4de8c225-5440-49b5-a9ae-f118783d8cee",
   "metadata": {},
   "source": [
    "Create an electronic report with a maximum of 2000 words (excluding citations) using Jupyter. The report should include the posed question, conducted analysis, and derived conclusion. Only one team member needs to submit this report. It is not required to include all tasks completed by each group member in their individual assignments. Make sure to reach a consensus among all team members on the final content of the report. If needed, consult your TA and Instructor for further guidance."
   ]
  },
  {
   "cell_type": "markdown",
   "id": "96a24a63-76ac-4df9-8f2e-500d8c16453c",
   "metadata": {},
   "source": [
    "## Title"
   ]
  },
  {
   "cell_type": "markdown",
   "id": "b26c4421-0c5e-4793-9979-7a2f2b5dff1e",
   "metadata": {},
   "source": [
    "### Introduction\n",
    "\n",
    "Start with relevant background information on the topic to prepare those unfamiliar for the rest of your proposal.\n",
    "\n",
    "Formulate one or two questions for investigation and detail the dataset that will be utilized to address these questions.\n",
    "\n",
    "Additionally, align your question/objectives with the existing literature. To contextualize your study, include a minimum of two scientific publications (these should be listed in the References section)."
   ]
  },
  {
   "cell_type": "markdown",
   "id": "5b20eb85-9afe-49e4-8c00-667ed141e0bf",
   "metadata": {},
   "source": [
    "GitHub repositories are online platforms that are useful for coding projects and assignments. Repositories allow for collaboration with other GitHub users, as well as viewing opportunities for anyone interested in exploring topics of interest. Projects can vary based on content, coding language and size, just to name a few aspects. Furthermore, repository features allow for identifying popularity among repositories, something which will be of importance in our analysis.\n",
    "\n",
    "Our question will be the following:\n",
    "\n",
    "*Which explanatory variables best predict stars on a GitHub repository?*\n",
    "\n",
    "Surveys confirm that stars are viewed by pratictioners as the most useful measure of a repository's popularity (Borges & Valente, 2018). "
   ]
  },
  {
   "cell_type": "markdown",
   "id": "9dd4000b-233f-4e84-b8da-db1e35969c1e",
   "metadata": {},
   "source": [
    "### Methods and Results\n",
    "\n",
    "In this section, you will include:\n",
    "\n",
    "a) “Exploratory Data Analysis (EDA)”\n",
    "\n",
    "Demonstrate that the dataset can be read into R.\n",
    "Clean and wrangle your data into a tidy format.\n",
    "Plot the relevant raw data, tailoring your plot to address your question.\n",
    "Make sure to explore the association of the explanatory variables with the response.\n",
    "Any summary tables that are relevant to your analysis.\n",
    "Be sure not to print output that takes up a lot of screen space.\n",
    "Your EDA must be comprehensive with high quality plots.\n",
    "\n",
    "Describe in written English the methods you used to perform your analysis from beginning to end, and narrate the code that does the analysis.\n",
    "If included, describe the “Feature Selection” process and how and why you choose the covariates of your final model.\n",
    "Make sure to interpret/explain the results you obtain. It’s not enough to just say, “I fitted a linear model with these covariates, and my R-square is 0.87”.\n",
    "If inference is the aim of your project, a detailed interpretation of your fitted model is required, as well as a discussion of relevant quantities (e.g., are the coefficients significant? How does the model fit the data)?\n",
    "A careful model assessment must be conducted.\n",
    "If prediction is the project's aim, describe the test data used or how it was created.\n",
    "Ensure your tables and/or figures are labelled with a figure/table number."
   ]
  },
  {
   "cell_type": "markdown",
   "id": "0c883966-8a4b-428d-94f7-230aab7c74a0",
   "metadata": {},
   "source": [
    "* Title: Most Popular GitHub Repositories (Projects)\n",
    "* Number of Observations: 215029\n",
    "* Number of Variables: 24\n",
    "\n",
    "The dataset consists of public repository data from GitHub, collected using the GitHub API. The data includes a wide range of attributes related to the repositories, such as metadata about the repository, owner details and various statistical measures about contributions and activity. Each repository corresponds to a project created by each respective user.\n",
    "\n",
    "Here's a detailed summary of the variables in the dataset:\n",
    "\n",
    "* `Name` - chr, name of the repository.\n",
    "* `URL` - chr, URL or web address that links to the GitHub repository.\n",
    "* `Created_At` - dttm, date and time when the repository was initially created on GitHub.\n",
    "* `Updated_At` - dttm, date and time of the most recent update/modification to the repository.\n",
    "* `Homepage` - chr, URL to the homepage or landing page associated with the repository.\n",
    "* `Size` - dbl, size of the repository in bytes.\n",
    "* `Stars` - dbl, number of stars or likes that the repository has received from other users.\n",
    "* `Forks` - dbl, number of times the repository has been forked by other users.\n",
    "* `Issues` - dbl, number of total issues.\n",
    "* `Watchers` - dbl, number of GitHub users who are \"watching\" or monitoring the repository.\n",
    "* `Language` - chr, primary coding language.\n",
    "* `License` - chr, Information about the software license using a license identifier.\n",
    "* `Topics` - list, a list of topics or tags associated with the repository.\n",
    "* `Has_Issues` - lgl, indicates whether the repository has an issue tracker enabled.\n",
    "* `Has_Projects` - lgl, indicates whether the repository uses GitHub Projects.\n",
    "* `Has_Downloads` - lgl, indicates whether the repository offers downloadable files or assets.\n",
    "* `Has_Wiki` - lgl, indicates whether the repository has an associated wiki.\n",
    "* `Has_Pages` - lgl, indicates whether the repository has GitHub Pages enabled for a website.\n",
    "* `Has_Discussions` - lgl, indicates whether the repository has GitHub Discussions enabled.\n",
    "* `Is_Fork`- lgl, indicates whether the repository is a fork of another repository.\n",
    "* `Is_Archived` - lgl, indicates whether the repository is archived.\n",
    "* `Is_Template` - lgl, indicates whether the repository is set up as a template.\n",
    "* `Default_Branch` - chr, name of the default branch.\n",
    "\n",
    "The dataset will provide valuable insights into the associations between the outlined explanatory variables and the star count of GitHub repositories. By analyzing this data, we aim to develop models that effectively highlight which variables are most strongly associated with repository popularity. While we will not assume causality, our goal is to assess the relative importance of these explanatory variables and infer which ones demonstrate the strongest relationships with the response variable.\n",
    "\n",
    "Our inquiry primarily focuses on inference, as we seek to draw conclusions about the broader population of GitHub repositories. Specifically, we want to determine whether our model can accurately forecast the number of stars a repository might receive based on its characteristics, even for observations outside of the dataset. The accuracy of our predictions will be crucial in evaluating the effectiveness of our analysis and confirming whether we have successfully identified the variables with the highest explanatory power. "
   ]
  },
  {
   "cell_type": "markdown",
   "id": "12447232-3c0d-4863-957d-a69d38e65a86",
   "metadata": {},
   "source": [
    "### Discussion\n",
    "\n",
    "In this section, you’ll interpret the results you obtained in the previous section with respect to the main question/goal of your project.\n",
    "\n",
    "Summarize what you found and the implications/impact of your findings.\n",
    "If relevant, discuss whether your results were what you expected to find.\n",
    "Discuss how your model could be improved;\n",
    "Discuss future questions/research this study could lead to."
   ]
  },
  {
   "cell_type": "markdown",
   "id": "70ef130b-d643-483d-8d80-5cc3e6ac0641",
   "metadata": {},
   "source": [
    "### References\n",
    "\n",
    "At least two citations of literature relevant to the project. The citation format is your choice – just be consistent. Make sure to cite the source of your data as well."
   ]
  },
  {
   "cell_type": "markdown",
   "id": "0758f6be-31d0-4dc7-8190-a6d9f3159754",
   "metadata": {},
   "source": [
    "https://www.sciencedirect.com/science/article/abs/pii/S0164121218301961"
   ]
  },
  {
   "cell_type": "code",
   "execution_count": null,
   "id": "73bb453a-f631-4948-b84c-ab1555bd23cd",
   "metadata": {},
   "outputs": [],
   "source": []
  }
 ],
 "metadata": {
  "kernelspec": {
   "display_name": "Python 3 (ipykernel)",
   "language": "python",
   "name": "python3"
  },
  "language_info": {
   "codemirror_mode": {
    "name": "ipython",
    "version": 3
   },
   "file_extension": ".py",
   "mimetype": "text/x-python",
   "name": "python",
   "nbconvert_exporter": "python",
   "pygments_lexer": "ipython3",
   "version": "3.11.9"
  }
 },
 "nbformat": 4,
 "nbformat_minor": 5
}
