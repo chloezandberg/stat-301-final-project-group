{
 "cells": [
  {
   "cell_type": "code",
   "execution_count": 2,
   "id": "c94de2dd-7fe5-47bf-a8b6-3003573d0311",
   "metadata": {},
   "outputs": [],
   "source": [
    "library(tidyverse)\n",
    "library(repr)\n",
    "library(infer)\n",
    "library(cowplot)\n",
    "library(broom)\n",
    "library(GGally)\n",
    "library(AER)\n",
    "library(janitor)\n",
    "library(scales)\n",
    "library(latex2exp)\n",
    "library(tidymodels)\n",
    "library(gridExtra)\n",
    "library(faraway)\n",
    "library(mltools)\n",
    "library(leaps)\n",
    "library(glmnet)\n",
    "library(cowplot)\n",
    "library(tibble)"
   ]
  },
  {
   "cell_type": "markdown",
   "id": "96a24a63-76ac-4df9-8f2e-500d8c16453c",
   "metadata": {},
   "source": [
    "## Best Variables for Prediction of GitHub Stars"
   ]
  },
  {
   "cell_type": "markdown",
   "id": "4de8c225-5440-49b5-a9ae-f118783d8cee",
   "metadata": {},
   "source": [
    "Create an electronic report with a maximum of 2000 words (excluding citations) using Jupyter. The report should include the posed question, conducted analysis, and derived conclusion. Only one team member needs to submit this report. It is not required to include all tasks completed by each group member in their individual assignments. Make sure to reach a consensus among all team members on the final content of the report. If needed, consult your TA and Instructor for further guidance."
   ]
  },
  {
   "cell_type": "markdown",
   "id": "b26c4421-0c5e-4793-9979-7a2f2b5dff1e",
   "metadata": {},
   "source": [
    "### Introduction"
   ]
  },
  {
   "cell_type": "markdown",
   "id": "5b20eb85-9afe-49e4-8c00-667ed141e0bf",
   "metadata": {},
   "source": [
    "GitHub is a website that provides a graphical interface for version control using Git which allows developers to maintain their code and track the versions of their project as it progresses. Projects are hosted in repositories, which can be starred by GitHub users if they like them. Surveys confirm that stars are viewed by pratictioners as the most useful measure of a repository's popularity (Borges & Valente, 2018). As GitHub becomes more and more prevalent among developers for use in version control, it can be interesting to see what variables best predict popularity. Recent attempts have been made to solve this problem, such as Moid et. al. with a Random Forest regressor, but no research exists on using Ridge regression on this problem (2021). We will explore this below.\n",
    "\n",
    "Our question will be the following:\n",
    "\n",
    "**Which explanatory variables best predict stars on a GitHub repository?**"
   ]
  },
  {
   "cell_type": "markdown",
   "id": "9dd4000b-233f-4e84-b8da-db1e35969c1e",
   "metadata": {},
   "source": [
    "### Methods and Results\n",
    "\n",
    "In this section, you will include:\n",
    "\n",
    "a) “Exploratory Data Analysis (EDA)”\n",
    "\n",
    "Demonstrate that the dataset can be read into R.\n",
    "Clean and wrangle your data into a tidy format.\n",
    "Plot the relevant raw data, tailoring your plot to address your question.\n",
    "Make sure to explore the association of the explanatory variables with the response.\n",
    "Any summary tables that are relevant to your analysis.\n",
    "Be sure not to print output that takes up a lot of screen space.\n",
    "Your EDA must be comprehensive with high quality plots.\n",
    "\n",
    "Describe in written English the methods you used to perform your analysis from beginning to end, and narrate the code that does the analysis.\n",
    "If included, describe the “Feature Selection” process and how and why you choose the covariates of your final model.\n",
    "Make sure to interpret/explain the results you obtain. It’s not enough to just say, “I fitted a linear model with these covariates, and my R-square is 0.87”.\n",
    "If inference is the aim of your project, a detailed interpretation of your fitted model is required, as well as a discussion of relevant quantities (e.g., are the coefficients significant? How does the model fit the data)?\n",
    "A careful model assessment must be conducted.\n",
    "If prediction is the project's aim, describe the test data used or how it was created.\n",
    "Ensure your tables and/or figures are labelled with a figure/table number."
   ]
  },
  {
   "cell_type": "code",
   "execution_count": 5,
   "id": "5fa56a48-b39d-400f-b7a1-9c6323bd9da9",
   "metadata": {},
   "outputs": [
    {
     "name": "stderr",
     "output_type": "stream",
     "text": [
      "\u001b[1mRows: \u001b[22m\u001b[34m215029\u001b[39m \u001b[1mColumns: \u001b[22m\u001b[34m24\u001b[39m\n",
      "\u001b[36m──\u001b[39m \u001b[1mColumn specification\u001b[22m \u001b[36m────────────────────────────────────────────────────────\u001b[39m\n",
      "\u001b[1mDelimiter:\u001b[22m \",\"\n",
      "\u001b[31mchr\u001b[39m  (8): Name, Description, URL, Homepage, Language, License, Topics, Defau...\n",
      "\u001b[32mdbl\u001b[39m  (5): Size, Stars, Forks, Issues, Watchers\n",
      "\u001b[33mlgl\u001b[39m  (9): Has Issues, Has Projects, Has Downloads, Has Wiki, Has Pages, Has ...\n",
      "\u001b[34mdttm\u001b[39m (2): Created At, Updated At\n",
      "\n",
      "\u001b[36mℹ\u001b[39m Use `spec()` to retrieve the full column specification for this data.\n",
      "\u001b[36mℹ\u001b[39m Specify the column types or set `show_col_types = FALSE` to quiet this message.\n"
     ]
    },
    {
     "data": {
      "text/html": [
       "<table class=\"dataframe\">\n",
       "<caption>A tibble: 6 × 24</caption>\n",
       "<thead>\n",
       "\t<tr><th scope=col>Name</th><th scope=col>Description</th><th scope=col>URL</th><th scope=col>Created At</th><th scope=col>Updated At</th><th scope=col>Homepage</th><th scope=col>Size</th><th scope=col>Stars</th><th scope=col>Forks</th><th scope=col>Issues</th><th scope=col>⋯</th><th scope=col>Has Issues</th><th scope=col>Has Projects</th><th scope=col>Has Downloads</th><th scope=col>Has Wiki</th><th scope=col>Has Pages</th><th scope=col>Has Discussions</th><th scope=col>Is Fork</th><th scope=col>Is Archived</th><th scope=col>Is Template</th><th scope=col>Default Branch</th></tr>\n",
       "\t<tr><th scope=col>&lt;chr&gt;</th><th scope=col>&lt;chr&gt;</th><th scope=col>&lt;chr&gt;</th><th scope=col>&lt;dttm&gt;</th><th scope=col>&lt;dttm&gt;</th><th scope=col>&lt;chr&gt;</th><th scope=col>&lt;dbl&gt;</th><th scope=col>&lt;dbl&gt;</th><th scope=col>&lt;dbl&gt;</th><th scope=col>&lt;dbl&gt;</th><th scope=col>⋯</th><th scope=col>&lt;lgl&gt;</th><th scope=col>&lt;lgl&gt;</th><th scope=col>&lt;lgl&gt;</th><th scope=col>&lt;lgl&gt;</th><th scope=col>&lt;lgl&gt;</th><th scope=col>&lt;lgl&gt;</th><th scope=col>&lt;lgl&gt;</th><th scope=col>&lt;lgl&gt;</th><th scope=col>&lt;lgl&gt;</th><th scope=col>&lt;chr&gt;</th></tr>\n",
       "</thead>\n",
       "<tbody>\n",
       "\t<tr><td>freeCodeCamp               </td><td>freeCodeCamp.org's open-source codebase and curriculum. Learn to code for free.         </td><td>https://github.com/freeCodeCamp/freeCodeCamp             </td><td>2014-12-24 17:49:19</td><td>2023-09-21 11:32:33</td><td>http://contribute.freecodecamp.org/                      </td><td>387451</td><td>374074</td><td>33599</td><td>  248</td><td>⋯</td><td> TRUE</td><td> TRUE</td><td>TRUE</td><td>FALSE</td><td> TRUE</td><td>FALSE</td><td>FALSE</td><td>FALSE</td><td>FALSE</td><td>main  </td></tr>\n",
       "\t<tr><td>free-programming-books     </td><td>:books: Freely available programming books                                              </td><td>https://github.com/EbookFoundation/free-programming-books</td><td>2013-10-11 06:50:37</td><td>2023-09-21 11:09:25</td><td>https://ebookfoundation.github.io/free-programming-books/</td><td> 17087</td><td>298393</td><td>57194</td><td>   46</td><td>⋯</td><td> TRUE</td><td>FALSE</td><td>TRUE</td><td>FALSE</td><td> TRUE</td><td>FALSE</td><td>FALSE</td><td>FALSE</td><td>FALSE</td><td>main  </td></tr>\n",
       "\t<tr><td>awesome                    </td><td>😎 Awesome lists about all kinds of interesting topics                                  </td><td>https://github.com/sindresorhus/awesome                  </td><td>2014-07-11 13:42:37</td><td>2023-09-21 11:18:22</td><td>NA                                                       </td><td>  1441</td><td>269997</td><td>26485</td><td>   61</td><td>⋯</td><td> TRUE</td><td>FALSE</td><td>TRUE</td><td>FALSE</td><td> TRUE</td><td>FALSE</td><td>FALSE</td><td>FALSE</td><td>FALSE</td><td>main  </td></tr>\n",
       "\t<tr><td>996.ICU                    </td><td>Repo for counting stars and contributing. Press F to pay respect to glorious developers.</td><td>https://github.com/996icu/996.ICU                        </td><td>2019-03-26 07:31:14</td><td>2023-09-21 08:09:01</td><td>https://996.icu                                          </td><td>187799</td><td>267901</td><td>21497</td><td>16712</td><td>⋯</td><td>FALSE</td><td>FALSE</td><td>TRUE</td><td>FALSE</td><td>FALSE</td><td>FALSE</td><td>FALSE</td><td> TRUE</td><td>FALSE</td><td>master</td></tr>\n",
       "\t<tr><td>coding-interview-university</td><td>A complete computer science study plan to become a software engineer.                   </td><td>https://github.com/jwasham/coding-interview-university   </td><td>2016-06-06 02:34:12</td><td>2023-09-21 10:54:48</td><td>NA                                                       </td><td> 20998</td><td>265161</td><td>69434</td><td>   56</td><td>⋯</td><td> TRUE</td><td>FALSE</td><td>TRUE</td><td>FALSE</td><td>FALSE</td><td>FALSE</td><td>FALSE</td><td>FALSE</td><td>FALSE</td><td>main  </td></tr>\n",
       "\t<tr><td>public-apis                </td><td>A collective list of free APIs                                                          </td><td>https://github.com/public-apis/public-apis               </td><td>2016-03-20 23:49:42</td><td>2023-09-21 11:22:06</td><td>http://public-apis.org                                   </td><td>  5088</td><td>256615</td><td>29254</td><td>  191</td><td>⋯</td><td> TRUE</td><td>FALSE</td><td>TRUE</td><td>FALSE</td><td>FALSE</td><td>FALSE</td><td>FALSE</td><td>FALSE</td><td>FALSE</td><td>master</td></tr>\n",
       "</tbody>\n",
       "</table>\n"
      ],
      "text/latex": [
       "A tibble: 6 × 24\n",
       "\\begin{tabular}{lllllllllllllllllllll}\n",
       " Name & Description & URL & Created At & Updated At & Homepage & Size & Stars & Forks & Issues & ⋯ & Has Issues & Has Projects & Has Downloads & Has Wiki & Has Pages & Has Discussions & Is Fork & Is Archived & Is Template & Default Branch\\\\\n",
       " <chr> & <chr> & <chr> & <dttm> & <dttm> & <chr> & <dbl> & <dbl> & <dbl> & <dbl> & ⋯ & <lgl> & <lgl> & <lgl> & <lgl> & <lgl> & <lgl> & <lgl> & <lgl> & <lgl> & <chr>\\\\\n",
       "\\hline\n",
       "\t freeCodeCamp                & freeCodeCamp.org's open-source codebase and curriculum. Learn to code for free.          & https://github.com/freeCodeCamp/freeCodeCamp              & 2014-12-24 17:49:19 & 2023-09-21 11:32:33 & http://contribute.freecodecamp.org/                       & 387451 & 374074 & 33599 &   248 & ⋯ &  TRUE &  TRUE & TRUE & FALSE &  TRUE & FALSE & FALSE & FALSE & FALSE & main  \\\\\n",
       "\t free-programming-books      & :books: Freely available programming books                                               & https://github.com/EbookFoundation/free-programming-books & 2013-10-11 06:50:37 & 2023-09-21 11:09:25 & https://ebookfoundation.github.io/free-programming-books/ &  17087 & 298393 & 57194 &    46 & ⋯ &  TRUE & FALSE & TRUE & FALSE &  TRUE & FALSE & FALSE & FALSE & FALSE & main  \\\\\n",
       "\t awesome                     & 😎 Awesome lists about all kinds of interesting topics                                   & https://github.com/sindresorhus/awesome                   & 2014-07-11 13:42:37 & 2023-09-21 11:18:22 & NA                                                        &   1441 & 269997 & 26485 &    61 & ⋯ &  TRUE & FALSE & TRUE & FALSE &  TRUE & FALSE & FALSE & FALSE & FALSE & main  \\\\\n",
       "\t 996.ICU                     & Repo for counting stars and contributing. Press F to pay respect to glorious developers. & https://github.com/996icu/996.ICU                         & 2019-03-26 07:31:14 & 2023-09-21 08:09:01 & https://996.icu                                           & 187799 & 267901 & 21497 & 16712 & ⋯ & FALSE & FALSE & TRUE & FALSE & FALSE & FALSE & FALSE &  TRUE & FALSE & master\\\\\n",
       "\t coding-interview-university & A complete computer science study plan to become a software engineer.                    & https://github.com/jwasham/coding-interview-university    & 2016-06-06 02:34:12 & 2023-09-21 10:54:48 & NA                                                        &  20998 & 265161 & 69434 &    56 & ⋯ &  TRUE & FALSE & TRUE & FALSE & FALSE & FALSE & FALSE & FALSE & FALSE & main  \\\\\n",
       "\t public-apis                 & A collective list of free APIs                                                           & https://github.com/public-apis/public-apis                & 2016-03-20 23:49:42 & 2023-09-21 11:22:06 & http://public-apis.org                                    &   5088 & 256615 & 29254 &   191 & ⋯ &  TRUE & FALSE & TRUE & FALSE & FALSE & FALSE & FALSE & FALSE & FALSE & master\\\\\n",
       "\\end{tabular}\n"
      ],
      "text/markdown": [
       "\n",
       "A tibble: 6 × 24\n",
       "\n",
       "| Name &lt;chr&gt; | Description &lt;chr&gt; | URL &lt;chr&gt; | Created At &lt;dttm&gt; | Updated At &lt;dttm&gt; | Homepage &lt;chr&gt; | Size &lt;dbl&gt; | Stars &lt;dbl&gt; | Forks &lt;dbl&gt; | Issues &lt;dbl&gt; | ⋯ ⋯ | Has Issues &lt;lgl&gt; | Has Projects &lt;lgl&gt; | Has Downloads &lt;lgl&gt; | Has Wiki &lt;lgl&gt; | Has Pages &lt;lgl&gt; | Has Discussions &lt;lgl&gt; | Is Fork &lt;lgl&gt; | Is Archived &lt;lgl&gt; | Is Template &lt;lgl&gt; | Default Branch &lt;chr&gt; |\n",
       "|---|---|---|---|---|---|---|---|---|---|---|---|---|---|---|---|---|---|---|---|---|\n",
       "| freeCodeCamp                | freeCodeCamp.org's open-source codebase and curriculum. Learn to code for free.          | https://github.com/freeCodeCamp/freeCodeCamp              | 2014-12-24 17:49:19 | 2023-09-21 11:32:33 | http://contribute.freecodecamp.org/                       | 387451 | 374074 | 33599 |   248 | ⋯ |  TRUE |  TRUE | TRUE | FALSE |  TRUE | FALSE | FALSE | FALSE | FALSE | main   |\n",
       "| free-programming-books      | :books: Freely available programming books                                               | https://github.com/EbookFoundation/free-programming-books | 2013-10-11 06:50:37 | 2023-09-21 11:09:25 | https://ebookfoundation.github.io/free-programming-books/ |  17087 | 298393 | 57194 |    46 | ⋯ |  TRUE | FALSE | TRUE | FALSE |  TRUE | FALSE | FALSE | FALSE | FALSE | main   |\n",
       "| awesome                     | 😎 Awesome lists about all kinds of interesting topics                                   | https://github.com/sindresorhus/awesome                   | 2014-07-11 13:42:37 | 2023-09-21 11:18:22 | NA                                                        |   1441 | 269997 | 26485 |    61 | ⋯ |  TRUE | FALSE | TRUE | FALSE |  TRUE | FALSE | FALSE | FALSE | FALSE | main   |\n",
       "| 996.ICU                     | Repo for counting stars and contributing. Press F to pay respect to glorious developers. | https://github.com/996icu/996.ICU                         | 2019-03-26 07:31:14 | 2023-09-21 08:09:01 | https://996.icu                                           | 187799 | 267901 | 21497 | 16712 | ⋯ | FALSE | FALSE | TRUE | FALSE | FALSE | FALSE | FALSE |  TRUE | FALSE | master |\n",
       "| coding-interview-university | A complete computer science study plan to become a software engineer.                    | https://github.com/jwasham/coding-interview-university    | 2016-06-06 02:34:12 | 2023-09-21 10:54:48 | NA                                                        |  20998 | 265161 | 69434 |    56 | ⋯ |  TRUE | FALSE | TRUE | FALSE | FALSE | FALSE | FALSE | FALSE | FALSE | main   |\n",
       "| public-apis                 | A collective list of free APIs                                                           | https://github.com/public-apis/public-apis                | 2016-03-20 23:49:42 | 2023-09-21 11:22:06 | http://public-apis.org                                    |   5088 | 256615 | 29254 |   191 | ⋯ |  TRUE | FALSE | TRUE | FALSE | FALSE | FALSE | FALSE | FALSE | FALSE | master |\n",
       "\n"
      ],
      "text/plain": [
       "  Name                       \n",
       "1 freeCodeCamp               \n",
       "2 free-programming-books     \n",
       "3 awesome                    \n",
       "4 996.ICU                    \n",
       "5 coding-interview-university\n",
       "6 public-apis                \n",
       "  Description                                                                             \n",
       "1 freeCodeCamp.org's open-source codebase and curriculum. Learn to code for free.         \n",
       "2 :books: Freely available programming books                                              \n",
       "3 😎 Awesome lists about all kinds of interesting topics                                  \n",
       "4 Repo for counting stars and contributing. Press F to pay respect to glorious developers.\n",
       "5 A complete computer science study plan to become a software engineer.                   \n",
       "6 A collective list of free APIs                                                          \n",
       "  URL                                                       Created At         \n",
       "1 https://github.com/freeCodeCamp/freeCodeCamp              2014-12-24 17:49:19\n",
       "2 https://github.com/EbookFoundation/free-programming-books 2013-10-11 06:50:37\n",
       "3 https://github.com/sindresorhus/awesome                   2014-07-11 13:42:37\n",
       "4 https://github.com/996icu/996.ICU                         2019-03-26 07:31:14\n",
       "5 https://github.com/jwasham/coding-interview-university    2016-06-06 02:34:12\n",
       "6 https://github.com/public-apis/public-apis                2016-03-20 23:49:42\n",
       "  Updated At          Homepage                                                 \n",
       "1 2023-09-21 11:32:33 http://contribute.freecodecamp.org/                      \n",
       "2 2023-09-21 11:09:25 https://ebookfoundation.github.io/free-programming-books/\n",
       "3 2023-09-21 11:18:22 NA                                                       \n",
       "4 2023-09-21 08:09:01 https://996.icu                                          \n",
       "5 2023-09-21 10:54:48 NA                                                       \n",
       "6 2023-09-21 11:22:06 http://public-apis.org                                   \n",
       "  Size   Stars  Forks Issues ⋯ Has Issues Has Projects Has Downloads Has Wiki\n",
       "1 387451 374074 33599   248  ⋯  TRUE       TRUE        TRUE          FALSE   \n",
       "2  17087 298393 57194    46  ⋯  TRUE      FALSE        TRUE          FALSE   \n",
       "3   1441 269997 26485    61  ⋯  TRUE      FALSE        TRUE          FALSE   \n",
       "4 187799 267901 21497 16712  ⋯ FALSE      FALSE        TRUE          FALSE   \n",
       "5  20998 265161 69434    56  ⋯  TRUE      FALSE        TRUE          FALSE   \n",
       "6   5088 256615 29254   191  ⋯  TRUE      FALSE        TRUE          FALSE   \n",
       "  Has Pages Has Discussions Is Fork Is Archived Is Template Default Branch\n",
       "1  TRUE     FALSE           FALSE   FALSE       FALSE       main          \n",
       "2  TRUE     FALSE           FALSE   FALSE       FALSE       main          \n",
       "3  TRUE     FALSE           FALSE   FALSE       FALSE       main          \n",
       "4 FALSE     FALSE           FALSE    TRUE       FALSE       master        \n",
       "5 FALSE     FALSE           FALSE   FALSE       FALSE       main          \n",
       "6 FALSE     FALSE           FALSE   FALSE       FALSE       master        "
      ]
     },
     "metadata": {},
     "output_type": "display_data"
    }
   ],
   "source": [
    "github_data <- read_csv(\"repositories.csv\")\n",
    "head(github_data)"
   ]
  },
  {
   "cell_type": "code",
   "execution_count": 6,
   "id": "33b9c928-3b9c-4db9-b780-e76281bf270e",
   "metadata": {},
   "outputs": [
    {
     "data": {
      "text/html": [
       "<style>\n",
       ".list-inline {list-style: none; margin:0; padding: 0}\n",
       ".list-inline>li {display: inline-block}\n",
       ".list-inline>li:not(:last-child)::after {content: \"\\00b7\"; padding: 0 .5ex}\n",
       "</style>\n",
       "<ol class=list-inline><li>'size'</li><li>'stars'</li><li>'forks'</li><li>'issues'</li><li>'watchers'</li><li>'has_issues'</li><li>'has_projects'</li><li>'has_downloads'</li><li>'has_wiki'</li><li>'has_pages'</li><li>'has_discussions'</li><li>'is_fork'</li><li>'is_archived'</li><li>'is_template'</li></ol>\n"
      ],
      "text/latex": [
       "\\begin{enumerate*}\n",
       "\\item 'size'\n",
       "\\item 'stars'\n",
       "\\item 'forks'\n",
       "\\item 'issues'\n",
       "\\item 'watchers'\n",
       "\\item 'has\\_issues'\n",
       "\\item 'has\\_projects'\n",
       "\\item 'has\\_downloads'\n",
       "\\item 'has\\_wiki'\n",
       "\\item 'has\\_pages'\n",
       "\\item 'has\\_discussions'\n",
       "\\item 'is\\_fork'\n",
       "\\item 'is\\_archived'\n",
       "\\item 'is\\_template'\n",
       "\\end{enumerate*}\n"
      ],
      "text/markdown": [
       "1. 'size'\n",
       "2. 'stars'\n",
       "3. 'forks'\n",
       "4. 'issues'\n",
       "5. 'watchers'\n",
       "6. 'has_issues'\n",
       "7. 'has_projects'\n",
       "8. 'has_downloads'\n",
       "9. 'has_wiki'\n",
       "10. 'has_pages'\n",
       "11. 'has_discussions'\n",
       "12. 'is_fork'\n",
       "13. 'is_archived'\n",
       "14. 'is_template'\n",
       "\n",
       "\n"
      ],
      "text/plain": [
       " [1] \"size\"            \"stars\"           \"forks\"           \"issues\"         \n",
       " [5] \"watchers\"        \"has_issues\"      \"has_projects\"    \"has_downloads\"  \n",
       " [9] \"has_wiki\"        \"has_pages\"       \"has_discussions\" \"is_fork\"        \n",
       "[13] \"is_archived\"     \"is_template\"    "
      ]
     },
     "metadata": {},
     "output_type": "display_data"
    }
   ],
   "source": [
    "github_data_clean <- clean_names(github_data) |>\n",
    "                select(-name, -description, -url, -created_at, -updated_at, -homepage, -language, -license, -topics, -default_branch)\n",
    "\n",
    "colnames(github_data_clean)"
   ]
  },
  {
   "cell_type": "code",
   "execution_count": 7,
   "id": "b669f4dd-c7eb-4d04-933a-4e4797b4072b",
   "metadata": {},
   "outputs": [
    {
     "data": {
      "text/html": [
       "<table class=\"dataframe\">\n",
       "<caption>A tibble: 14 × 2</caption>\n",
       "<thead>\n",
       "\t<tr><th scope=col>column</th><th scope=col>na_count</th></tr>\n",
       "\t<tr><th scope=col>&lt;chr&gt;</th><th scope=col>&lt;int&gt;</th></tr>\n",
       "</thead>\n",
       "<tbody>\n",
       "\t<tr><td>size           </td><td>0</td></tr>\n",
       "\t<tr><td>stars          </td><td>0</td></tr>\n",
       "\t<tr><td>forks          </td><td>0</td></tr>\n",
       "\t<tr><td>issues         </td><td>0</td></tr>\n",
       "\t<tr><td>watchers       </td><td>0</td></tr>\n",
       "\t<tr><td>has_issues     </td><td>0</td></tr>\n",
       "\t<tr><td>has_projects   </td><td>0</td></tr>\n",
       "\t<tr><td>has_downloads  </td><td>0</td></tr>\n",
       "\t<tr><td>has_wiki       </td><td>0</td></tr>\n",
       "\t<tr><td>has_pages      </td><td>0</td></tr>\n",
       "\t<tr><td>has_discussions</td><td>0</td></tr>\n",
       "\t<tr><td>is_fork        </td><td>0</td></tr>\n",
       "\t<tr><td>is_archived    </td><td>0</td></tr>\n",
       "\t<tr><td>is_template    </td><td>0</td></tr>\n",
       "</tbody>\n",
       "</table>\n"
      ],
      "text/latex": [
       "A tibble: 14 × 2\n",
       "\\begin{tabular}{ll}\n",
       " column & na\\_count\\\\\n",
       " <chr> & <int>\\\\\n",
       "\\hline\n",
       "\t size            & 0\\\\\n",
       "\t stars           & 0\\\\\n",
       "\t forks           & 0\\\\\n",
       "\t issues          & 0\\\\\n",
       "\t watchers        & 0\\\\\n",
       "\t has\\_issues      & 0\\\\\n",
       "\t has\\_projects    & 0\\\\\n",
       "\t has\\_downloads   & 0\\\\\n",
       "\t has\\_wiki        & 0\\\\\n",
       "\t has\\_pages       & 0\\\\\n",
       "\t has\\_discussions & 0\\\\\n",
       "\t is\\_fork         & 0\\\\\n",
       "\t is\\_archived     & 0\\\\\n",
       "\t is\\_template     & 0\\\\\n",
       "\\end{tabular}\n"
      ],
      "text/markdown": [
       "\n",
       "A tibble: 14 × 2\n",
       "\n",
       "| column &lt;chr&gt; | na_count &lt;int&gt; |\n",
       "|---|---|\n",
       "| size            | 0 |\n",
       "| stars           | 0 |\n",
       "| forks           | 0 |\n",
       "| issues          | 0 |\n",
       "| watchers        | 0 |\n",
       "| has_issues      | 0 |\n",
       "| has_projects    | 0 |\n",
       "| has_downloads   | 0 |\n",
       "| has_wiki        | 0 |\n",
       "| has_pages       | 0 |\n",
       "| has_discussions | 0 |\n",
       "| is_fork         | 0 |\n",
       "| is_archived     | 0 |\n",
       "| is_template     | 0 |\n",
       "\n"
      ],
      "text/plain": [
       "   column          na_count\n",
       "1  size            0       \n",
       "2  stars           0       \n",
       "3  forks           0       \n",
       "4  issues          0       \n",
       "5  watchers        0       \n",
       "6  has_issues      0       \n",
       "7  has_projects    0       \n",
       "8  has_downloads   0       \n",
       "9  has_wiki        0       \n",
       "10 has_pages       0       \n",
       "11 has_discussions 0       \n",
       "12 is_fork         0       \n",
       "13 is_archived     0       \n",
       "14 is_template     0       "
      ]
     },
     "metadata": {},
     "output_type": "display_data"
    }
   ],
   "source": [
    "na_counts <- github_data_clean %>%\n",
    "  summarise(across(everything(), ~ sum(is.na(.)))) %>%\n",
    "  pivot_longer(everything(), names_to = \"column\", values_to = \"na_count\")\n",
    "\n",
    "na_counts"
   ]
  },
  {
   "cell_type": "markdown",
   "id": "de6c62db-dc2b-4dff-b0d3-1772677dfb43",
   "metadata": {},
   "source": [
    "Ridge regression assumes numeric variables are scaled. As such, we scale numeric variables below."
   ]
  },
  {
   "cell_type": "code",
   "execution_count": 10,
   "id": "6b1f4792-3348-4f53-84c9-6e562cd57809",
   "metadata": {},
   "outputs": [
    {
     "data": {
      "text/html": [
       "<table class=\"dataframe\">\n",
       "<caption>A tibble: 6 × 14</caption>\n",
       "<thead>\n",
       "\t<tr><th scope=col>size</th><th scope=col>stars</th><th scope=col>forks</th><th scope=col>issues</th><th scope=col>watchers</th><th scope=col>has_issues</th><th scope=col>has_projects</th><th scope=col>has_downloads</th><th scope=col>has_wiki</th><th scope=col>has_pages</th><th scope=col>has_discussions</th><th scope=col>is_fork</th><th scope=col>is_archived</th><th scope=col>is_template</th></tr>\n",
       "\t<tr><th scope=col>&lt;dbl&gt;</th><th scope=col>&lt;dbl&gt;</th><th scope=col>&lt;dbl&gt;</th><th scope=col>&lt;dbl&gt;</th><th scope=col>&lt;dbl&gt;</th><th scope=col>&lt;lgl&gt;</th><th scope=col>&lt;lgl&gt;</th><th scope=col>&lt;lgl&gt;</th><th scope=col>&lt;lgl&gt;</th><th scope=col>&lt;lgl&gt;</th><th scope=col>&lt;lgl&gt;</th><th scope=col>&lt;lgl&gt;</th><th scope=col>&lt;lgl&gt;</th><th scope=col>&lt;lgl&gt;</th></tr>\n",
       "</thead>\n",
       "<tbody>\n",
       "\t<tr><td> 0.47432990</td><td>93.41788</td><td>26.84285</td><td> 1.06903622</td><td>93.41788</td><td> TRUE</td><td> TRUE</td><td>TRUE</td><td>FALSE</td><td> TRUE</td><td>FALSE</td><td>FALSE</td><td>FALSE</td><td>FALSE</td></tr>\n",
       "\t<tr><td>-0.05295532</td><td>74.46148</td><td>45.82565</td><td> 0.04109144</td><td>74.46148</td><td> TRUE</td><td>FALSE</td><td>TRUE</td><td>FALSE</td><td> TRUE</td><td>FALSE</td><td>FALSE</td><td>FALSE</td><td>FALSE</td></tr>\n",
       "\t<tr><td>-0.07523044</td><td>67.34891</td><td>21.11945</td><td> 0.11742398</td><td>67.34891</td><td> TRUE</td><td>FALSE</td><td>TRUE</td><td>FALSE</td><td> TRUE</td><td>FALSE</td><td>FALSE</td><td>FALSE</td><td>FALSE</td></tr>\n",
       "\t<tr><td> 0.19008643</td><td>66.82391</td><td>17.10648</td><td>84.85162450</td><td>66.82391</td><td>FALSE</td><td>FALSE</td><td>TRUE</td><td>FALSE</td><td>FALSE</td><td>FALSE</td><td>FALSE</td><td> TRUE</td><td>FALSE</td></tr>\n",
       "\t<tr><td>-0.04738725</td><td>66.13760</td><td>55.67305</td><td> 0.09197980</td><td>66.13760</td><td> TRUE</td><td>FALSE</td><td>TRUE</td><td>FALSE</td><td>FALSE</td><td>FALSE</td><td>FALSE</td><td>FALSE</td><td>FALSE</td></tr>\n",
       "\t<tr><td>-0.07003823</td><td>63.99702</td><td>23.34719</td><td> 0.77897260</td><td>63.99702</td><td> TRUE</td><td>FALSE</td><td>TRUE</td><td>FALSE</td><td>FALSE</td><td>FALSE</td><td>FALSE</td><td>FALSE</td><td>FALSE</td></tr>\n",
       "</tbody>\n",
       "</table>\n"
      ],
      "text/latex": [
       "A tibble: 6 × 14\n",
       "\\begin{tabular}{llllllllllllll}\n",
       " size & stars & forks & issues & watchers & has\\_issues & has\\_projects & has\\_downloads & has\\_wiki & has\\_pages & has\\_discussions & is\\_fork & is\\_archived & is\\_template\\\\\n",
       " <dbl> & <dbl> & <dbl> & <dbl> & <dbl> & <lgl> & <lgl> & <lgl> & <lgl> & <lgl> & <lgl> & <lgl> & <lgl> & <lgl>\\\\\n",
       "\\hline\n",
       "\t  0.47432990 & 93.41788 & 26.84285 &  1.06903622 & 93.41788 &  TRUE &  TRUE & TRUE & FALSE &  TRUE & FALSE & FALSE & FALSE & FALSE\\\\\n",
       "\t -0.05295532 & 74.46148 & 45.82565 &  0.04109144 & 74.46148 &  TRUE & FALSE & TRUE & FALSE &  TRUE & FALSE & FALSE & FALSE & FALSE\\\\\n",
       "\t -0.07523044 & 67.34891 & 21.11945 &  0.11742398 & 67.34891 &  TRUE & FALSE & TRUE & FALSE &  TRUE & FALSE & FALSE & FALSE & FALSE\\\\\n",
       "\t  0.19008643 & 66.82391 & 17.10648 & 84.85162450 & 66.82391 & FALSE & FALSE & TRUE & FALSE & FALSE & FALSE & FALSE &  TRUE & FALSE\\\\\n",
       "\t -0.04738725 & 66.13760 & 55.67305 &  0.09197980 & 66.13760 &  TRUE & FALSE & TRUE & FALSE & FALSE & FALSE & FALSE & FALSE & FALSE\\\\\n",
       "\t -0.07003823 & 63.99702 & 23.34719 &  0.77897260 & 63.99702 &  TRUE & FALSE & TRUE & FALSE & FALSE & FALSE & FALSE & FALSE & FALSE\\\\\n",
       "\\end{tabular}\n"
      ],
      "text/markdown": [
       "\n",
       "A tibble: 6 × 14\n",
       "\n",
       "| size &lt;dbl&gt; | stars &lt;dbl&gt; | forks &lt;dbl&gt; | issues &lt;dbl&gt; | watchers &lt;dbl&gt; | has_issues &lt;lgl&gt; | has_projects &lt;lgl&gt; | has_downloads &lt;lgl&gt; | has_wiki &lt;lgl&gt; | has_pages &lt;lgl&gt; | has_discussions &lt;lgl&gt; | is_fork &lt;lgl&gt; | is_archived &lt;lgl&gt; | is_template &lt;lgl&gt; |\n",
       "|---|---|---|---|---|---|---|---|---|---|---|---|---|---|\n",
       "|  0.47432990 | 93.41788 | 26.84285 |  1.06903622 | 93.41788 |  TRUE |  TRUE | TRUE | FALSE |  TRUE | FALSE | FALSE | FALSE | FALSE |\n",
       "| -0.05295532 | 74.46148 | 45.82565 |  0.04109144 | 74.46148 |  TRUE | FALSE | TRUE | FALSE |  TRUE | FALSE | FALSE | FALSE | FALSE |\n",
       "| -0.07523044 | 67.34891 | 21.11945 |  0.11742398 | 67.34891 |  TRUE | FALSE | TRUE | FALSE |  TRUE | FALSE | FALSE | FALSE | FALSE |\n",
       "|  0.19008643 | 66.82391 | 17.10648 | 84.85162450 | 66.82391 | FALSE | FALSE | TRUE | FALSE | FALSE | FALSE | FALSE |  TRUE | FALSE |\n",
       "| -0.04738725 | 66.13760 | 55.67305 |  0.09197980 | 66.13760 |  TRUE | FALSE | TRUE | FALSE | FALSE | FALSE | FALSE | FALSE | FALSE |\n",
       "| -0.07003823 | 63.99702 | 23.34719 |  0.77897260 | 63.99702 |  TRUE | FALSE | TRUE | FALSE | FALSE | FALSE | FALSE | FALSE | FALSE |\n",
       "\n"
      ],
      "text/plain": [
       "  size        stars    forks    issues      watchers has_issues has_projects\n",
       "1  0.47432990 93.41788 26.84285  1.06903622 93.41788  TRUE       TRUE       \n",
       "2 -0.05295532 74.46148 45.82565  0.04109144 74.46148  TRUE      FALSE       \n",
       "3 -0.07523044 67.34891 21.11945  0.11742398 67.34891  TRUE      FALSE       \n",
       "4  0.19008643 66.82391 17.10648 84.85162450 66.82391 FALSE      FALSE       \n",
       "5 -0.04738725 66.13760 55.67305  0.09197980 66.13760  TRUE      FALSE       \n",
       "6 -0.07003823 63.99702 23.34719  0.77897260 63.99702  TRUE      FALSE       \n",
       "  has_downloads has_wiki has_pages has_discussions is_fork is_archived\n",
       "1 TRUE          FALSE     TRUE     FALSE           FALSE   FALSE      \n",
       "2 TRUE          FALSE     TRUE     FALSE           FALSE   FALSE      \n",
       "3 TRUE          FALSE     TRUE     FALSE           FALSE   FALSE      \n",
       "4 TRUE          FALSE    FALSE     FALSE           FALSE    TRUE      \n",
       "5 TRUE          FALSE    FALSE     FALSE           FALSE   FALSE      \n",
       "6 TRUE          FALSE    FALSE     FALSE           FALSE   FALSE      \n",
       "  is_template\n",
       "1 FALSE      \n",
       "2 FALSE      \n",
       "3 FALSE      \n",
       "4 FALSE      \n",
       "5 FALSE      \n",
       "6 FALSE      "
      ]
     },
     "metadata": {},
     "output_type": "display_data"
    }
   ],
   "source": [
    "# scaling numeric features\n",
    "\n",
    "numeric_cols <- sapply(github_data_clean, is.numeric)\n",
    "\n",
    "github_data_clean[numeric_cols] <- scale(github_data_clean[numeric_cols])\n",
    "\n",
    "head(github_data_clean)"
   ]
  },
  {
   "cell_type": "code",
   "execution_count": 12,
   "id": "7d820749-5310-403d-a7e7-946248b2e4f2",
   "metadata": {},
   "outputs": [],
   "source": [
    "set.seed(1234)\n",
    "\n",
    "repo_split <- initial_split(github_data_clean, prop = 0.7, strata = stars)\n",
    "training_repos <- training(repo_split)\n",
    "testing_repos <- testing(repo_split)"
   ]
  },
  {
   "cell_type": "code",
   "execution_count": 13,
   "id": "b964acee-8a16-40ab-ac20-e0f4ac59ae6f",
   "metadata": {},
   "outputs": [],
   "source": [
    "# splitting the data into explanatory variables, X, and response, Y, to tune lambda\n",
    "\n",
    "training_Y <- training_repos |>\n",
    "            select(stars) |>\n",
    "            as.matrix()\n",
    "\n",
    "training_X <- training_repos |>\n",
    "        select(-stars) |>\n",
    "            as.matrix()\n",
    "\n",
    "testing_Y <- testing_repos |>\n",
    "            select(stars) |>\n",
    "            as.matrix()\n",
    "\n",
    "testing_X <- testing_repos |>\n",
    "        select(-stars) |>\n",
    "            as.matrix()"
   ]
  },
  {
   "cell_type": "markdown",
   "id": "12447232-3c0d-4863-957d-a69d38e65a86",
   "metadata": {},
   "source": [
    "### Discussion\n",
    "\n",
    "In this section, you’ll interpret the results you obtained in the previous section with respect to the main question/goal of your project.\n",
    "\n",
    "Summarize what you found and the implications/impact of your findings.\n",
    "If relevant, discuss whether your results were what you expected to find.\n",
    "Discuss how your model could be improved;\n",
    "Discuss future questions/research this study could lead to."
   ]
  },
  {
   "cell_type": "markdown",
   "id": "70ef130b-d643-483d-8d80-5cc3e6ac0641",
   "metadata": {},
   "source": [
    "### References"
   ]
  },
  {
   "cell_type": "markdown",
   "id": "0758f6be-31d0-4dc7-8190-a6d9f3159754",
   "metadata": {},
   "source": [
    "Borges, Hudson, and Marco Tulio Valente. “What’s in a GitHub Star? Understanding Repository Starring Practices in a Social Coding Platform.” Journal of Systems and Software, vol. 146, Dec. 2018, pp. 112–129, www.sciencedirect.com/science/article/pii/S0164121218301961, https://doi.org/10.1016/j.jss.2018.09.016. Accessed 4 Nov. 2019.\n",
    "\n",
    "Moid, Mohammed Abdul, et al. “Predicting Stars on Open-Source GitHub Projects.” 2022 Smart Technologies, Communication and Robotics (STCR), 9 Oct. 2021, ieeexplore.ieee.org/document/9588891, https://doi.org/10.1109/stcr51658.2021.9588891. Accessed 5 Dec. 2024."
   ]
  },
  {
   "cell_type": "code",
   "execution_count": null,
   "id": "37a92d9e-113d-417b-b8f6-b33264549b90",
   "metadata": {},
   "outputs": [],
   "source": []
  },
  {
   "cell_type": "code",
   "execution_count": null,
   "id": "de025453-20f4-4a14-949c-184e689826fe",
   "metadata": {},
   "outputs": [],
   "source": []
  }
 ],
 "metadata": {
  "kernelspec": {
   "display_name": "R",
   "language": "R",
   "name": "ir"
  },
  "language_info": {
   "codemirror_mode": "r",
   "file_extension": ".r",
   "mimetype": "text/x-r-source",
   "name": "R",
   "pygments_lexer": "r",
   "version": "4.3.3"
  }
 },
 "nbformat": 4,
 "nbformat_minor": 5
}
