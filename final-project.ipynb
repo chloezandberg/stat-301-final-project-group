{
 "cells": [
  {
   "cell_type": "code",
   "execution_count": 2,
   "id": "c94de2dd-7fe5-47bf-a8b6-3003573d0311",
   "metadata": {},
   "outputs": [],
   "source": [
    "library(tidyverse)\n",
    "library(repr)\n",
    "library(infer)\n",
    "library(cowplot)\n",
    "library(broom)\n",
    "library(GGally)\n",
    "library(AER)\n",
    "library(janitor)\n",
    "library(scales)\n",
    "library(latex2exp)\n",
    "library(tidymodels)\n",
    "library(gridExtra)\n",
    "library(faraway)\n",
    "library(mltools)\n",
    "library(leaps)\n",
    "library(glmnet)\n",
    "library(cowplot)\n",
    "library(tibble)"
   ]
  },
  {
   "cell_type": "markdown",
   "id": "4de8c225-5440-49b5-a9ae-f118783d8cee",
   "metadata": {},
   "source": [
    "Create an electronic report with a maximum of 2000 words (excluding citations) using Jupyter. The report should include the posed question, conducted analysis, and derived conclusion. Only one team member needs to submit this report. It is not required to include all tasks completed by each group member in their individual assignments. Make sure to reach a consensus among all team members on the final content of the report. If needed, consult your TA and Instructor for further guidance."
   ]
  },
  {
   "cell_type": "markdown",
   "id": "96a24a63-76ac-4df9-8f2e-500d8c16453c",
   "metadata": {},
   "source": [
    "## Title"
   ]
  },
  {
   "cell_type": "markdown",
   "id": "b26c4421-0c5e-4793-9979-7a2f2b5dff1e",
   "metadata": {},
   "source": [
    "### Introduction\n",
    "\n",
    "Start with relevant background information on the topic to prepare those unfamiliar for the rest of your proposal.\n",
    "\n",
    "Formulate one or two questions for investigation and detail the dataset that will be utilized to address these questions.\n",
    "\n",
    "Additionally, align your question/objectives with the existing literature. To contextualize your study, include a minimum of two scientific publications (these should be listed in the References section)."
   ]
  },
  {
   "cell_type": "markdown",
   "id": "5b20eb85-9afe-49e4-8c00-667ed141e0bf",
   "metadata": {},
   "source": [
    "Our question will be the following:\n",
    "\n",
    "*Which explanatory variables best predict stars on a GitHub repository?*\n",
    "\n",
    "Surveys confirm that stars are viewed by pratictioners as the most useful measure of a repository's popularity (Borges & Valente, 2018). As GitHub becomes more and more prevalent among developers for use in version control, it can be interesting to see what variables best predict popularity. Recent attempts have been made to solve this problem, such as Moid et. al. with a Random Forest regressor, but no research exists on using mulitple linear regression and LASSO feature selection on this problem (2021). We will explore this below./"
   ]
  },
  {
   "cell_type": "markdown",
   "id": "9dd4000b-233f-4e84-b8da-db1e35969c1e",
   "metadata": {},
   "source": [
    "### Methods and Results\n",
    "\n",
    "In this section, you will include:\n",
    "\n",
    "a) “Exploratory Data Analysis (EDA)”\n",
    "\n",
    "Demonstrate that the dataset can be read into R.\n",
    "Clean and wrangle your data into a tidy format.\n",
    "Plot the relevant raw data, tailoring your plot to address your question.\n",
    "Make sure to explore the association of the explanatory variables with the response.\n",
    "Any summary tables that are relevant to your analysis.\n",
    "Be sure not to print output that takes up a lot of screen space.\n",
    "Your EDA must be comprehensive with high quality plots.\n",
    "\n",
    "Describe in written English the methods you used to perform your analysis from beginning to end, and narrate the code that does the analysis.\n",
    "If included, describe the “Feature Selection” process and how and why you choose the covariates of your final model.\n",
    "Make sure to interpret/explain the results you obtain. It’s not enough to just say, “I fitted a linear model with these covariates, and my R-square is 0.87”.\n",
    "If inference is the aim of your project, a detailed interpretation of your fitted model is required, as well as a discussion of relevant quantities (e.g., are the coefficients significant? How does the model fit the data)?\n",
    "A careful model assessment must be conducted.\n",
    "If prediction is the project's aim, describe the test data used or how it was created.\n",
    "Ensure your tables and/or figures are labelled with a figure/table number."
   ]
  },
  {
   "cell_type": "markdown",
   "id": "12447232-3c0d-4863-957d-a69d38e65a86",
   "metadata": {},
   "source": [
    "### Discussion\n",
    "\n",
    "In this section, you’ll interpret the results you obtained in the previous section with respect to the main question/goal of your project.\n",
    "\n",
    "Summarize what you found and the implications/impact of your findings.\n",
    "If relevant, discuss whether your results were what you expected to find.\n",
    "Discuss how your model could be improved;\n",
    "Discuss future questions/research this study could lead to."
   ]
  },
  {
   "cell_type": "markdown",
   "id": "70ef130b-d643-483d-8d80-5cc3e6ac0641",
   "metadata": {},
   "source": [
    "### References\n",
    "\n",
    "At least two citations of literature relevant to the project. The citation format is your choice – just be consistent. Make sure to cite the source of your data as well."
   ]
  },
  {
   "cell_type": "markdown",
   "id": "0758f6be-31d0-4dc7-8190-a6d9f3159754",
   "metadata": {},
   "source": [
    "Borges, Hudson, and Marco Tulio Valente. “What’s in a GitHub Star? Understanding Repository Starring Practices in a Social Coding Platform.” Journal of Systems and Software, vol. 146, Dec. 2018, pp. 112–129, www.sciencedirect.com/science/article/pii/S0164121218301961, https://doi.org/10.1016/j.jss.2018.09.016. Accessed 4 Nov. 2019.\n",
    "\n",
    "Moid, Mohammed Abdul, et al. “Predicting Stars on Open-Source GitHub Projects.” 2022 Smart Technologies, Communication and Robotics (STCR), 9 Oct. 2021, ieeexplore.ieee.org/document/9588891, https://doi.org/10.1109/stcr51658.2021.9588891. Accessed 5 Dec. 2024."
   ]
  },
  {
   "cell_type": "code",
   "execution_count": null,
   "id": "37a92d9e-113d-417b-b8f6-b33264549b90",
   "metadata": {},
   "outputs": [],
   "source": []
  },
  {
   "cell_type": "code",
   "execution_count": null,
   "id": "de025453-20f4-4a14-949c-184e689826fe",
   "metadata": {},
   "outputs": [],
   "source": []
  }
 ],
 "metadata": {
  "kernelspec": {
   "display_name": "R",
   "language": "R",
   "name": "ir"
  },
  "language_info": {
   "codemirror_mode": "r",
   "file_extension": ".r",
   "mimetype": "text/x-r-source",
   "name": "R",
   "pygments_lexer": "r",
   "version": "4.3.3"
  }
 },
 "nbformat": 4,
 "nbformat_minor": 5
}
