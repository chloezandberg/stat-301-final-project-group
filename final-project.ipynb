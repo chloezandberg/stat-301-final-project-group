{
 "cells": [
  {
   "cell_type": "markdown",
   "id": "4de8c225-5440-49b5-a9ae-f118783d8cee",
   "metadata": {},
   "source": [
    "Create an electronic report with a maximum of 2000 words (excluding citations) using Jupyter. The report should include the posed question, conducted analysis, and derived conclusion. Only one team member needs to submit this report. It is not required to include all tasks completed by each group member in their individual assignments. Make sure to reach a consensus among all team members on the final content of the report. If needed, consult your TA and Instructor for further guidance."
   ]
  },
  {
   "cell_type": "markdown",
   "id": "96a24a63-76ac-4df9-8f2e-500d8c16453c",
   "metadata": {},
   "source": [
    "## Title"
   ]
  },
  {
   "cell_type": "markdown",
   "id": "b26c4421-0c5e-4793-9979-7a2f2b5dff1e",
   "metadata": {},
   "source": [
    "### Introduction"
   ]
  },
  {
   "cell_type": "markdown",
   "id": "9dd4000b-233f-4e84-b8da-db1e35969c1e",
   "metadata": {},
   "source": [
    "### Methods and Results"
   ]
  },
  {
   "cell_type": "markdown",
   "id": "12447232-3c0d-4863-957d-a69d38e65a86",
   "metadata": {},
   "source": [
    "### Discussion"
   ]
  },
  {
   "cell_type": "markdown",
   "id": "70ef130b-d643-483d-8d80-5cc3e6ac0641",
   "metadata": {},
   "source": [
    "### References"
   ]
  },
  {
   "cell_type": "code",
   "execution_count": null,
   "id": "b560b746-1bbe-4675-afb4-0aa6c5728804",
   "metadata": {},
   "outputs": [],
   "source": [
    "hi"
   ]
  }
 ],
 "metadata": {
  "kernelspec": {
   "display_name": "Python 3 (ipykernel)",
   "language": "python",
   "name": "python3"
  },
  "language_info": {
   "codemirror_mode": {
    "name": "ipython",
    "version": 3
   },
   "file_extension": ".py",
   "mimetype": "text/x-python",
   "name": "python",
   "nbconvert_exporter": "python",
   "pygments_lexer": "ipython3",
   "version": "3.11.9"
  }
 },
 "nbformat": 4,
 "nbformat_minor": 5
}
